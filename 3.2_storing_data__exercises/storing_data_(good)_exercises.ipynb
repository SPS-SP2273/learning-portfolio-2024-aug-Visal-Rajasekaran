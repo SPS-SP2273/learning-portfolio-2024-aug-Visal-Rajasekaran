{
 "cells": [
  {
   "attachments": {},
   "cell_type": "markdown",
   "id": "123456",
   "metadata": {},
   "source": [
    "<div style=\"text-align:left;font-size:2em\"><span style=\"font-weight:bolder;font-size:1.25em\">SP2273 | Learning Portfolio</span><br><br><span style=\"font-weight:bold;color:darkred\">Storing Data (Good) Exercises</span></div>"
   ]
  },
  {
   "cell_type": "markdown",
   "id": "850786f7-3bec-4513-8cdb-7b28f64e60fc",
   "metadata": {},
   "source": [
    "|Term|Brief Description|\n",
    "|:---:|:---:|\n",
    "|Subsetting|Selecting a section of the list/array|\n",
    "|Indexing|Selecting an element of the list/array|\n",
    "|Slicing|Selecting a range of elements of the list/array|\n",
    "|Masking|Selecting for elements that fulfill a specified condition|"
   ]
  },
  {
   "cell_type": "code",
   "execution_count": 2,
   "id": "2e4ed56a-62a2-4b94-8614-c825359608da",
   "metadata": {},
   "outputs": [],
   "source": [
    "import numpy as np\n",
    "import numpy.ma as ma"
   ]
  },
  {
   "cell_type": "code",
   "execution_count": 3,
   "id": "f89dcea8-23c0-465e-95e3-ebca1eeeaa48",
   "metadata": {},
   "outputs": [],
   "source": [
    "np_array_2d = np.array([[1, \"A\"], [3, \"C\"], [2, \"B\"], [4, \"D\"],\n",
    "                        [5, \"E\"], [7, \"G\"], [6, \"F\"], [8, \"H\"],\n",
    "                       [10, \"J\"], [9, \"I\"]])"
   ]
  },
  {
   "cell_type": "code",
   "execution_count": 5,
   "id": "280955c8-7b93-4849-95df-32943ef22f8b",
   "metadata": {},
   "outputs": [
    {
     "name": "stdout",
     "output_type": "stream",
     "text": [
      "6.54 µs ± 88.5 ns per loop (mean ± std. dev. of 7 runs, 100000 loops each)\n"
     ]
    }
   ],
   "source": [
    "%%timeit\n",
    "list = []\n",
    "for x in np_array_2d:\n",
    "    if int(x[0]) % 2 == 1:\n",
    "        list.append(x[1])\n",
    "#print(np.array(list).astype(str))"
   ]
  },
  {
   "cell_type": "code",
   "execution_count": 11,
   "id": "b5533c39-1fb4-4077-a3a8-a8916d006fe7",
   "metadata": {},
   "outputs": [
    {
     "name": "stdout",
     "output_type": "stream",
     "text": [
      "6.62 µs ± 181 ns per loop (mean ± std. dev. of 7 runs, 100000 loops each)\n"
     ]
    }
   ],
   "source": [
    "%%timeit\n",
    "#With numpy functions\n",
    "numbers_subset = np_array_2d[:,0].astype(int)\n",
    "mask = numbers_subset % 2 != 0\n",
    "odd_letts = np_array_2d[mask]\n",
    "#odd_letts"
   ]
  },
  {
   "cell_type": "code",
   "execution_count": 3,
   "id": "90adaad7-8a93-41d9-a3d5-aaa3d13ab2db",
   "metadata": {},
   "outputs": [
    {
     "name": "stdout",
     "output_type": "stream",
     "text": [
      "[-1 -1 -1 -1 -1 -1 -1 -1 -1 -1 -1 -1 -1]\n",
      "[[ 1  0  1 -1 -1]\n",
      " [ 1 -1  1 -1 -1]\n",
      " [ 1 -1 -1  1 -1]\n",
      " [-1  1  1 -1 -1]\n",
      " [ 1 -1  1 -1  1]]\n"
     ]
    }
   ],
   "source": [
    "arr = [[66, 50, 57, -1, -1],\n",
    " [92, -1, 88, -1, -1],\n",
    " [75, -1, -1, 76, -1],\n",
    " [-1, 51, 87, -1, -1],\n",
    " [71, -1, 67, -1, 69]]\n",
    "arr = np.array(arr)\n",
    "arr1 = arr[arr < 50]\n",
    "print(arr1)\n",
    "arr[arr < 50] = -1\n",
    "arr[arr > 50] = 1\n",
    "arr[arr == 50] = 0\n",
    "print(arr)"
   ]
  },
  {
   "cell_type": "code",
   "execution_count": null,
   "id": "036c8cdc-b33f-4968-98ab-c11ed113cbd6",
   "metadata": {},
   "outputs": [],
   "source": []
  }
 ],
 "metadata": {
  "kernelspec": {
   "display_name": "Python 3 (ipykernel)",
   "language": "python",
   "name": "python3"
  },
  "language_info": {
   "codemirror_mode": {
    "name": "ipython",
    "version": 3
   },
   "file_extension": ".py",
   "mimetype": "text/x-python",
   "name": "python",
   "nbconvert_exporter": "python",
   "pygments_lexer": "ipython3",
   "version": "3.9.5"
  },
  "toc": {
   "base_numbering": 1,
   "nav_menu": {},
   "number_sections": true,
   "sideBar": true,
   "skip_h1_title": false,
   "title_cell": "Table of Contents",
   "title_sidebar": "Contents",
   "toc_cell": false,
   "toc_position": {},
   "toc_section_display": true,
   "toc_window_display": false
  },
  "vscode": {
   "interpreter": {
    "hash": "31f2aee4e71d21fbe5cf8b01ff0e069b9275f58929596ceb00d14d90e3e16cd6"
   }
  }
 },
 "nbformat": 4,
 "nbformat_minor": 5
}
