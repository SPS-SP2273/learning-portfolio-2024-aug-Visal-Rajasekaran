{
 "cells": [
  {
   "attachments": {},
   "cell_type": "markdown",
   "id": "123456",
   "metadata": {},
   "source": [
    "<div style=\"text-align:left;font-size:2em\"><span style=\"font-weight:bolder;font-size:1.25em\">SP2273 | Learning Portfolio</span><br><br><span style=\"font-weight:bold;color:darkred\">Storing Data (Need) Exercises</span></div>"
   ]
  },
  {
   "cell_type": "markdown",
   "id": "378c919f-4f99-41ae-8ca2-3b6ced3b7993",
   "metadata": {},
   "source": [
    "### Similarities between a list and numpy array\n",
    "Both are ways to store values in python.\n",
    "Both can be multidimensional(nested) for infinite dimensions.\n",
    "\n",
    "### Differences between a list and numpy array\n",
    "A list can hold multiple data types while an array can only hold a single data type.\n",
    "Numpy package is optimized for handling arrays. Hence, using numpy arrays instead of lists whenever possible, especially for large datasets, reduces processing time greatly. Numpy also offers several methods for handling arrays efficiently.\n",
    "Operations on list grow the list while that on a numpy array will perfom the operation for each element.\n",
    "A list containing values of same data type can be converted to a numpy array.\n",
    "When using conditional statements with a list, only the first value of the list is compared.\n",
    "### What is a dictionary?\n",
    "A dictionary is a way to store data with a key and an associated value in the form key:value. The value can be a list, tuple or array. It is a convenient way to store data that are associated indexwise, such as a list of names and age. "
   ]
  },
  {
   "cell_type": "code",
   "execution_count": 2,
   "id": "35c9557d-44b6-404d-8744-1ace764560c3",
   "metadata": {},
   "outputs": [
    {
     "name": "stdout",
     "output_type": "stream",
     "text": [
      "a1\n",
      "c3\n",
      "e5\n",
      "g7\n",
      "i9\n",
      "j11\n"
     ]
    }
   ],
   "source": [
    "py_list = [\"a1\", \"b2\", \"c3\", \"d4\", \"e5\", \"f6\", \"g7\", \"h8\", \"i9\", \"j10\", \"j11\"]\n",
    "\n",
    "for i in py_list:\n",
    "    number = int(i[1:]) #The list can be seen as a list of strings and strings are a list of characters\n",
    "    \n",
    "    if number % 2 == 1:\n",
    "        print(i)\n"
   ]
  },
  {
   "cell_type": "code",
   "execution_count": 4,
   "id": "cfb3dd46-3930-4436-838d-8f07746c377c",
   "metadata": {},
   "outputs": [
    {
     "name": "stdout",
     "output_type": "stream",
     "text": [
      "Forward Indexing: Lithium\n",
      "Backward Indexing: Lithium\n"
     ]
    }
   ],
   "source": [
    "elements = ['Hydrogen',\n",
    "            'Helium', 'Lithium',\n",
    "            'Beryllium', 'Boron', 'Carbon',\n",
    "            'Nitrogen', 'Oxygen',\n",
    "            'Fluorine',\n",
    "            'Neon']\n",
    "index = 2 #Note that 0 represents first index\n",
    "print(f\"Forward Indexing: {elements[index]}\\nBackward Indexing: {elements[index - len(elements)]}\")\n",
    "#print(elements[index],\"\\n\",elements[index - len(elements)], sep = \"\")\n"
   ]
  },
  {
   "cell_type": "code",
   "execution_count": 39,
   "id": "1b670e42-fa8f-466d-beb7-07d92043e6af",
   "metadata": {},
   "outputs": [
    {
     "name": "stdout",
     "output_type": "stream",
     "text": [
      "Data type of initial list values:  <class 'int'>\n",
      "Data type of np array of strings:  <U11\n",
      "Data type of np array of integers:  int32\n",
      "Total number of '1's:  12\n",
      "Total number of 1's: 9\n"
     ]
    }
   ],
   "source": [
    "import numpy as np\n",
    "\n",
    "numbers=[45, 60, 1, 30, 96, 1, 96, 57, 16, 1,\n",
    "        99, 62, 86, 43, 42, 60, 59, 1, 1, 35,\n",
    "        83, 47, 34, 28, 68, 23, 22, 92, 1, 79,\n",
    "        1, 29, 94, 72, 46, 47, 1, 74, 32, 20,\n",
    "        8, 37, 35, 1, 89, 29, 86, 19, 43, 61]\n",
    "\n",
    "print(\"Data type of initial list values: \",type(numbers[0]))\n",
    "str_numbers = np.array(numbers).astype(str)   #Converting the list of integers to a numpy array of strings\n",
    "#print(numbers[0].split())                #Does not work\n",
    "#print(numbers)\n",
    "print(\"Data type of np array of strings: \",str_numbers.dtype)\n",
    "\n",
    "numbers_split = []\n",
    "for x in str_numbers:\n",
    "    for i in x:\n",
    "        numbers_split.append(i)\n",
    "        \n",
    "numbers_split = np.array(numbers_split).astype(int)\n",
    "print(\"Data type of np array of integers: \",numbers_split.dtype)\n",
    "ans = np.sum(numbers_split[numbers_split == 1])\n",
    "print(\"Total number of '1's: \",ans)\n",
    "print(\"Total number of 1's:\", np.sum(np.array(numbers) == 1))\n",
    "\n"
   ]
  },
  {
   "cell_type": "code",
   "execution_count": 40,
   "id": "27cc6dc3-29b6-46ee-8ca2-c92865d4b1ce",
   "metadata": {},
   "outputs": [
    {
     "name": "stdout",
     "output_type": "stream",
     "text": [
      "Standard Deviation of x_1:  32.41990129534635\n",
      "Standard Deviation of x_2:  326.0893282522444\n",
      "Mean of x_1:  38.5\n",
      "Mean of x_2:  302.5\n",
      "Standard Deviation of x_1:  32.41990129534635\n",
      "Standard Deviation of x_2:  32.41990129534635\n"
     ]
    }
   ],
   "source": [
    "x_1 = [1, 4, 9, 16, 25, 36, 49, 64, 81, 100] \n",
    "x_2 = [1, 8, 27, 64, 125, 216, 343, 512, 729, 1000]\n",
    "\n",
    "print(\"Standard Deviation of x_1: \",np.std(x_1))\n",
    "print(\"Standard Deviation of x_2: \",np.std(x_2))\n",
    "print(\"Mean of x_1: \",np.mean(x_1))\n",
    "print(\"Mean of x_2: \",np.mean(x_2))\n",
    "print(\"Standard Deviation of x_1: \",np.std(x_1))\n",
    "print(\"Standard Deviation of x_2: \",np.std(x_1))"
   ]
  },
  {
   "cell_type": "code",
   "execution_count": null,
   "id": "9e8573f2-04ce-4062-ae04-923ebc6191e5",
   "metadata": {},
   "outputs": [],
   "source": []
  }
 ],
 "metadata": {
  "kernelspec": {
   "display_name": "Python 3 (ipykernel)",
   "language": "python",
   "name": "python3"
  },
  "language_info": {
   "codemirror_mode": {
    "name": "ipython",
    "version": 3
   },
   "file_extension": ".py",
   "mimetype": "text/x-python",
   "name": "python",
   "nbconvert_exporter": "python",
   "pygments_lexer": "ipython3",
   "version": "3.9.5"
  },
  "toc": {
   "base_numbering": 1,
   "nav_menu": {},
   "number_sections": true,
   "sideBar": true,
   "skip_h1_title": false,
   "title_cell": "Table of Contents",
   "title_sidebar": "Contents",
   "toc_cell": false,
   "toc_position": {},
   "toc_section_display": true,
   "toc_window_display": false
  },
  "vscode": {
   "interpreter": {
    "hash": "31f2aee4e71d21fbe5cf8b01ff0e069b9275f58929596ceb00d14d90e3e16cd6"
   }
  }
 },
 "nbformat": 4,
 "nbformat_minor": 5
}
