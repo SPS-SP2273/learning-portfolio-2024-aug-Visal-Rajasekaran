{
 "cells": [
  {
   "cell_type": "markdown",
   "id": "123456",
   "metadata": {},
   "source": [
    "<div style=\"text-align:left;font-size:2em\"><span style=\"font-weight:bolder;font-size:1.25em\">SP2273 | Learning Portfolio</span><br><br><span style=\"font-weight:bold;color:darkred\">Fundamentals (Need) Exercises</span></div>"
   ]
  },
  {
   "cell_type": "code",
   "execution_count": 5,
   "id": "12213b4f",
   "metadata": {},
   "outputs": [],
   "source": [
    "import math\n",
    "import numpy as np\n"
   ]
  },
  {
   "cell_type": "code",
   "execution_count": 7,
   "id": "fe8bdd3b",
   "metadata": {},
   "outputs": [
    {
     "name": "stdout",
     "output_type": "stream",
     "text": [
      "3 4 5\n"
     ]
    }
   ],
   "source": [
    "x, y = 3, 4\n",
    "z = np.sqrt(x**2 + y**2)\n",
    "print(x, y, round(z))"
   ]
  },
  {
   "cell_type": "markdown",
   "id": "e37dde89",
   "metadata": {},
   "source": [
    "|#|Term|Description|\n",
    "|:----|:----|:----|\n",
    "|1|Function|Code written to perform a specific task|\n",
    "|2|Arguments|The input for a function but not necessary if the function is defined without arguments|\n",
    "|3|Comments|Lines which are not run. Used to write descriptions for lines of code for code clarity |\n",
    "|4|Indentations|Critical for code clarity and used to separate code blocks since python does not use {}|\n",
    "|5|Packages|Libraries of pre-defined methods/functions, definitions, classes or simply code that can be accessed through import and used for specific tasks without having to write your own|\n",
    "|6|.|Used to call objects and their methods and variables |\n",
    "|7|:|Used to specify range|\n",
    "|8|[]|Used to access array or list elements with 0 referring to first element. 2D/3D array elements are accessed using 2 or 3 indexes with row first column second. Also used to define lists or arrays |\n",
    "|9|[[],[]]|A list of lists or 2D array where each the []'s inside are the rows in matrix form|\n",
    "|10|{}|Not sure. It is used in defining syntax of dictionaries which are practically dataframes|\n"
   ]
  },
  {
   "cell_type": "code",
   "execution_count": 13,
   "id": "5748397a",
   "metadata": {},
   "outputs": [
    {
     "name": "stdout",
     "output_type": "stream",
     "text": [
      "2.5\n",
      "2\n",
      "1\n"
     ]
    }
   ],
   "source": [
    "print(5/2)   #Performs division and return exact value in float\n",
    "print(5//2)  #Return the quotient of the division\n",
    "print(5%2)   #Returns 5mod(2) which is the remainder"
   ]
  }
 ],
 "metadata": {
  "kernelspec": {
   "display_name": "Python 3",
   "language": "python",
   "name": "python3"
  },
  "language_info": {
   "codemirror_mode": {
    "name": "ipython",
    "version": 3
   },
   "file_extension": ".py",
   "mimetype": "text/x-python",
   "name": "python",
   "nbconvert_exporter": "python",
   "pygments_lexer": "ipython3",
   "version": "3.9.5"
  },
  "toc": {
   "base_numbering": 1,
   "nav_menu": {},
   "number_sections": true,
   "sideBar": true,
   "skip_h1_title": false,
   "title_cell": "Table of Contents",
   "title_sidebar": "Contents",
   "toc_cell": false,
   "toc_position": {},
   "toc_section_display": true,
   "toc_window_display": false
  },
  "vscode": {
   "interpreter": {
    "hash": "31f2aee4e71d21fbe5cf8b01ff0e069b9275f58929596ceb00d14d90e3e16cd6"
   }
  }
 },
 "nbformat": 4,
 "nbformat_minor": 5
}
