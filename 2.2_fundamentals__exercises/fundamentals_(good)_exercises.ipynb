{
 "cells": [
  {
   "cell_type": "markdown",
   "id": "123456",
   "metadata": {},
   "source": [
    "<div style=\"text-align:left;font-size:2em\"><span style=\"font-weight:bolder;font-size:1.25em\">SP2273 | Learning Portfolio</span><br><br><span style=\"font-weight:bold;color:darkred\">Fundamentals (Good) Exercises</span></div>"
   ]
  },
  {
   "cell_type": "code",
   "execution_count": 3,
   "id": "05f35336",
   "metadata": {},
   "outputs": [
    {
     "name": "stdin",
     "output_type": "stream",
     "text": [
      "Enter name:  visal\n"
     ]
    },
    {
     "name": "stdout",
     "output_type": "stream",
     "text": [
      "<class 'str'>\n",
      "How you doin visal!\n"
     ]
    },
    {
     "name": "stdin",
     "output_type": "stream",
     "text": [
      "Enter age:  21\n"
     ]
    },
    {
     "name": "stdout",
     "output_type": "stream",
     "text": [
      "<class 'str'>\n",
      "My name is visal and I am 21 years old.\n",
      "My name is visal and I am 21 years old.\n",
      "My name is  and I am 21.00 years old.\n",
      "My name is  visal  and I am  21  years old.\n",
      "10\n"
     ]
    }
   ],
   "source": [
    "name = input(\"Enter name: \") \n",
    "print(type(name))\n",
    "print(f\"How you doin {name}!\")\n",
    "age = input(\"Enter age: \")                       #input() stores as a string. To store as an integer, typset input to int manually as such int(input())\n",
    "print(type(age))\n",
    "\n",
    "#Different ways to print and format outuput. \n",
    "print(f\"My name is {name} and I am {age} years old.\")                 #format string method type 1\n",
    "print(\"My name is {0} and I am {1} years old.\".format(name,age))      #format string method type 2. The number in {} represents index\n",
    "print(\"My name is %.s and I am %.2f years old.\" % (name, float(age))) #% method allows for easy decimal modification. Rounds not truncate\n",
    "print(\"My name is \",name,\" and I am \", age,\" years old.\")             #format string method type 1\n",
    "print(int(10.6))                                                      #Output is 10 not 11. int truncates float values instead of rounding"
   ]
  },
  {
   "cell_type": "code",
   "execution_count": 2,
   "id": "c6dca717",
   "metadata": {},
   "outputs": [
    {
     "name": "stdout",
     "output_type": "stream",
     "text": [
      "The value of pi to 2 decimal places is 3.14\n",
      "The value of pi to 3 decimal places is 3.142\n",
      "The value of pi to 4 decimal places is 3.1416\n"
     ]
    }
   ],
   "source": [
    "pi = 3.141592653589793\n",
    "print(\"The value of pi to 2 decimal places is %.2f\"%pi)\n",
    "print(\"The value of pi to 3 decimal places is %.3f\"%pi)\n",
    "print(\"The value of pi to 4 decimal places is %.4f\"%pi)"
   ]
  },
  {
   "cell_type": "code",
   "execution_count": 1,
   "id": "3cac369a",
   "metadata": {},
   "outputs": [
    {
     "name": "stdout",
     "output_type": "stream",
     "text": [
      "Apple     $ 0.99\n",
      "Banana    $ 0.59\n",
      "Orange    $ 1.29\n"
     ]
    }
   ],
   "source": [
    "fruit_prices = {'Apple':0.99,\n",
    "'Banana':0.59,\n",
    "'Orange':1.29}\n",
    "\n",
    "for fruit in fruit_prices:\n",
    "    \n",
    "    spacef = 10 - len(fruit)\n",
    "    \n",
    "    print(fruit, end=\"\")\n",
    "    print(\" \" * spacef,end=\"\")         #Python allows for such use of *\n",
    "    print(f\"$ {fruit_prices[fruit]}\")   \n",
    "    \n"
   ]
  },
  {
   "cell_type": "code",
   "execution_count": null,
   "id": "d4c3bfee",
   "metadata": {},
   "outputs": [],
   "source": [
    "marks = int(input(\"Enter score: \"))\n",
    "while(marks > 100 or marks < 0):\n",
    "    marks = int(input(\"Enter valid score: \"))\n",
    "if (marks >= 70 ):\n",
    "    print('A')\n",
    "elif (marks >= 50):\n",
    "    print('B')\n",
    "elif (marks >= 35):\n",
    "    print('C')\n",
    "else:\n",
    "    print('Fail')\n"
   ]
  },
  {
   "cell_type": "code",
   "execution_count": null,
   "id": "fef75dee",
   "metadata": {},
   "outputs": [],
   "source": [
    "def factorial(n):\n",
    "    if n < 0:\n",
    "        return \"Invalid input\"\n",
    "    elif n == 0:\n",
    "        return 1\n",
    "    else:\n",
    "        result = 1\n",
    "        for number in range(1, n+1):\n",
    "            result *= number\n",
    "        return result\n",
    "\n",
    "\n",
    "print(factorial(5))   # Testing, expected output: 120\n",
    "print(factorial(-1))  # Testing, expected output: Invalid input"
   ]
  }
 ],
 "metadata": {
  "kernelspec": {
   "display_name": "Python 3 (ipykernel)",
   "language": "python",
   "name": "python3"
  },
  "language_info": {
   "codemirror_mode": {
    "name": "ipython",
    "version": 3
   },
   "file_extension": ".py",
   "mimetype": "text/x-python",
   "name": "python",
   "nbconvert_exporter": "python",
   "pygments_lexer": "ipython3",
   "version": "3.9.5"
  },
  "toc": {
   "base_numbering": 1,
   "nav_menu": {},
   "number_sections": true,
   "sideBar": true,
   "skip_h1_title": false,
   "title_cell": "Table of Contents",
   "title_sidebar": "Contents",
   "toc_cell": false,
   "toc_position": {},
   "toc_section_display": true,
   "toc_window_display": false
  },
  "vscode": {
   "interpreter": {
    "hash": "31f2aee4e71d21fbe5cf8b01ff0e069b9275f58929596ceb00d14d90e3e16cd6"
   }
  }
 },
 "nbformat": 4,
 "nbformat_minor": 5
}
