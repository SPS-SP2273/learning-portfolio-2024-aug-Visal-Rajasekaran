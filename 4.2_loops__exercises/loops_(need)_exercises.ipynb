{
 "cells": [
  {
   "attachments": {},
   "cell_type": "markdown",
   "id": "123456",
   "metadata": {},
   "source": [
    "<div style=\"text-align:left;font-size:2em\"><span style=\"font-weight:bolder;font-size:1.25em\">SP2273 | Learning Portfolio</span><br><br><span style=\"font-weight:bold;color:darkred\">Loops (Need) Exercises</span></div>"
   ]
  },
  {
   "cell_type": "code",
   "execution_count": 2,
   "id": "82c2e0ab-02cb-4911-a49f-843160cd3005",
   "metadata": {},
   "outputs": [],
   "source": [
    "import numpy as np"
   ]
  },
  {
   "cell_type": "code",
   "execution_count": 3,
   "id": "cc4286d6-220b-4094-8c40-9fcaa670bd0e",
   "metadata": {},
   "outputs": [
    {
     "name": "stdout",
     "output_type": "stream",
     "text": [
      "[[[  0.  32.]\n",
      "  [  5.  41.]\n",
      "  [ 10.  50.]\n",
      "  [ 15.  59.]\n",
      "  [ 20.  68.]\n",
      "  [ 25.  77.]\n",
      "  [ 30.  86.]\n",
      "  [ 35.  95.]\n",
      "  [ 40. 104.]\n",
      "  [ 45. 113.]\n",
      "  [ 50. 122.]]]\n"
     ]
    }
   ],
   "source": [
    "temperatures_celsius = [\n",
    "    0, 5, 10, 15, 20, 25,\n",
    "    30, 35, 40, 45, 50\n",
    "]\n",
    "\n",
    "temperatures_celsius = np.array(temperatures_celsius).astype(float)\n",
    "temperatures_farenheit = temperatures_celsius * (9/5) + 32\n",
    "print(np.dstack((temperatures_celsius,temperatures_farenheit)))"
   ]
  },
  {
   "cell_type": "code",
   "execution_count": 4,
   "id": "5034b12e-7c6c-450f-9054-c1c9e9b5e36f",
   "metadata": {},
   "outputs": [
    {
     "name": "stdout",
     "output_type": "stream",
     "text": [
      "1 : 1\t2\t3\t4\t5\t\n",
      "2 : 2\t4\t6\t8\t10\t\n",
      "3 : 3\t6\t9\t12\t15\t\n",
      "4 : 4\t8\t12\t16\t20\t\n",
      "5 : 5\t10\t15\t20\t25\t\n"
     ]
    }
   ],
   "source": [
    "#Multiplication table\n",
    "Numbers = [1,2,3,4,5]\n",
    "Length = 5\n",
    "for x in Numbers:\n",
    "    print(x,\": \", end = \"\")\n",
    "    for i in range(5):\n",
    "        print(f\"{int(x) * (i+1)}\\t\", end = \"\")\n",
    "    print(\"\")"
   ]
  },
  {
   "cell_type": "code",
   "execution_count": 6,
   "id": "618e17c8-8123-4cef-b594-20702a8b8299",
   "metadata": {},
   "outputs": [
    {
     "name": "stdout",
     "output_type": "stream",
     "text": [
      "Experiment   1: No. of Heads = 6\n",
      "Experiment   2: No. of Heads = 5\n",
      "Experiment   3: No. of Heads = 6\n",
      "Experiment   4: No. of Heads = 7\n",
      "Experiment   5: No. of Heads = 5\n",
      "Experiment   6: No. of Heads = 5\n",
      "Experiment   7: No. of Heads = 6\n",
      "Experiment   8: No. of Heads = 5\n",
      "Experiment   9: No. of Heads = 5\n",
      "Experiment  10: No. of Heads = 4\n"
     ]
    }
   ],
   "source": [
    "\n",
    "Trials = 10\n",
    "Sample_size = 10\n",
    "t = \" \"\n",
    "for i in range(Trials):\n",
    "    heads = np.sum(np.random.rand(Sample_size) > 0.5)\n",
    "    print(f\"Experiment {i+1:2d}: No. of Heads = {heads}\")\n",
    "\n",
    "    \n"
   ]
  },
  {
   "cell_type": "code",
   "execution_count": null,
   "id": "c0f2621f-4d96-46fc-82d1-553c9549330c",
   "metadata": {},
   "outputs": [],
   "source": []
  }
 ],
 "metadata": {
  "kernelspec": {
   "display_name": "Python 3 (ipykernel)",
   "language": "python",
   "name": "python3"
  },
  "language_info": {
   "codemirror_mode": {
    "name": "ipython",
    "version": 3
   },
   "file_extension": ".py",
   "mimetype": "text/x-python",
   "name": "python",
   "nbconvert_exporter": "python",
   "pygments_lexer": "ipython3",
   "version": "3.9.5"
  },
  "toc": {
   "base_numbering": 1,
   "nav_menu": {},
   "number_sections": true,
   "sideBar": true,
   "skip_h1_title": false,
   "title_cell": "Table of Contents",
   "title_sidebar": "Contents",
   "toc_cell": false,
   "toc_position": {},
   "toc_section_display": true,
   "toc_window_display": false
  },
  "vscode": {
   "interpreter": {
    "hash": "31f2aee4e71d21fbe5cf8b01ff0e069b9275f58929596ceb00d14d90e3e16cd6"
   }
  }
 },
 "nbformat": 4,
 "nbformat_minor": 5
}
