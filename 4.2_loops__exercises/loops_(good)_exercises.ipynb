{
 "cells": [
  {
   "attachments": {},
   "cell_type": "markdown",
   "id": "123456",
   "metadata": {},
   "source": [
    "<div style=\"text-align:left;font-size:2em\"><span style=\"font-weight:bolder;font-size:1.25em\">SP2273 | Learning Portfolio</span><br><br><span style=\"font-weight:bold;color:darkred\">Loops (Good) Exercises</span></div>"
   ]
  },
  {
   "cell_type": "code",
   "execution_count": 3,
   "id": "a8cf6d4f-aed7-4be5-a89c-6b0d0dac0038",
   "metadata": {},
   "outputs": [
    {
     "name": "stdout",
     "output_type": "stream",
     "text": [
      "6.17 µs ± 66.7 ns per loop (mean ± std. dev. of 7 runs, 100000 loops each)\n"
     ]
    }
   ],
   "source": [
    "%%timeit\n",
    "list_of_squares = []\n",
    "\n",
    "for x in range(50):\n",
    "    if x % 2 == 0:\n",
    "        list_of_squares.append(x**2)\n",
    "    else:\n",
    "        continue\n",
    "#print(list_of_squares)\n",
    "#6.24 microseconds per loop. Used 50 instead of 10 as the difference in time was not noticeable"
   ]
  },
  {
   "cell_type": "code",
   "execution_count": 4,
   "id": "43eadbaf-7df4-4447-9330-56117ab10a47",
   "metadata": {},
   "outputs": [
    {
     "name": "stdout",
     "output_type": "stream",
     "text": [
      "5.76 µs ± 15.1 ns per loop (mean ± std. dev. of 7 runs, 100000 loops each)\n"
     ]
    }
   ],
   "source": [
    "%%timeit\n",
    "list_of_squares2 = [x**2 for x in range(50) if x % 2 == 0]\n",
    "#print(list_of_squares2)\n",
    "#5.82 microsecond"
   ]
  },
  {
   "cell_type": "code",
   "execution_count": 5,
   "id": "86823afb-9aac-46e3-bde5-25e58956fa81",
   "metadata": {},
   "outputs": [
    {
     "name": "stdout",
     "output_type": "stream",
     "text": [
      "It takes about 14 years for the sample to decay to half the original amount\n"
     ]
    }
   ],
   "source": [
    "#Radioactive Decay\n",
    "\n",
    "m_initial,m_current,years_elapsed = 100, 100,0\n",
    "\n",
    "while m_current >= m_initial/2:\n",
    "    m_current *= 0.95\n",
    "    years_elapsed += 1\n",
    "\n",
    "print(f\"It takes about {years_elapsed} years for the sample to decay to half the original amount\")\n",
    "    "
   ]
  },
  {
   "cell_type": "code",
   "execution_count": 6,
   "id": "c555817d-7dcf-424a-aa90-f9079f6f994d",
   "metadata": {},
   "outputs": [],
   "source": [
    "co2_data = [\n",
    "    (2000, 369.55), (2001, 371.14), (2002, 373.28), \n",
    "    (2003, 375.80), (2004, 377.52), (2005, 379.80), \n",
    "    (2006, 381.90), (2007, 383.79), (2008, 385.60), \n",
    "    (2009, 387.43), (2010, 389.90), (2011, 391.65), \n",
    "    (2012, 393.85), (2013, 396.52), (2014, 398.65),\n",
    "    (2015, 400.83), (2016, 404.24), (2017, 406.55), \n",
    "    (2018, 408.52), (2019, 411.44), (2020, 414.24)\n",
    "]"
   ]
  },
  {
   "cell_type": "code",
   "execution_count": 8,
   "id": "73368d8f-4bd2-4be3-a9e5-6d18945fbe3f",
   "metadata": {},
   "outputs": [
    {
     "name": "stdout",
     "output_type": "stream",
     "text": [
      "[(2016, 404.24)]\n"
     ]
    }
   ],
   "source": [
    "#%%timeit\n",
    "years_with_spikes = [co2_data[x+1] for x in range(len(co2_data) -1) if (co2_data[x+1][1] - co2_data[x][1] >= 3)]\n",
    "print(years_with_spikes)\n",
    "#Took 2.07 microsecond per loop"
   ]
  },
  {
   "cell_type": "code",
   "execution_count": 9,
   "id": "3da72c06-1866-4c4c-9eed-fc86db80ba9e",
   "metadata": {},
   "outputs": [],
   "source": [
    "years_with_spikes2 = []"
   ]
  },
  {
   "cell_type": "code",
   "execution_count": 10,
   "id": "8d48ef20-5a02-4498-95a6-af7ac658578e",
   "metadata": {},
   "outputs": [
    {
     "name": "stdout",
     "output_type": "stream",
     "text": [
      "[(2016, 404.24)]\n"
     ]
    }
   ],
   "source": [
    "#%%timeit\n",
    "for x in range(len(co2_data) -1):\n",
    "    #print(co2_data[x+1][1] - co2_data[x][1] )\n",
    "    if co2_data[x+1][1] - co2_data[x][1] > 3: #If i use >=, comparison of floating point is invoked\n",
    "        years_with_spikes2.append(co2_data[x+1])\n",
    "print(years_with_spikes2)\n",
    "#Took 2.15 microsecond per loop"
   ]
  },
  {
   "cell_type": "code",
   "execution_count": null,
   "id": "6e3c2a46-6405-4d06-9c8e-3cd05283fbff",
   "metadata": {},
   "outputs": [],
   "source": []
  }
 ],
 "metadata": {
  "kernelspec": {
   "display_name": "Python 3 (ipykernel)",
   "language": "python",
   "name": "python3"
  },
  "language_info": {
   "codemirror_mode": {
    "name": "ipython",
    "version": 3
   },
   "file_extension": ".py",
   "mimetype": "text/x-python",
   "name": "python",
   "nbconvert_exporter": "python",
   "pygments_lexer": "ipython3",
   "version": "3.9.5"
  },
  "toc": {
   "base_numbering": 1,
   "nav_menu": {},
   "number_sections": true,
   "sideBar": true,
   "skip_h1_title": false,
   "title_cell": "Table of Contents",
   "title_sidebar": "Contents",
   "toc_cell": false,
   "toc_position": {},
   "toc_section_display": true,
   "toc_window_display": false
  },
  "vscode": {
   "interpreter": {
    "hash": "31f2aee4e71d21fbe5cf8b01ff0e069b9275f58929596ceb00d14d90e3e16cd6"
   }
  }
 },
 "nbformat": 4,
 "nbformat_minor": 5
}
