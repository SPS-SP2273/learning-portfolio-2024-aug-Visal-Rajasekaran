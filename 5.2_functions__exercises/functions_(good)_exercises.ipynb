{
 "cells": [
  {
   "attachments": {},
   "cell_type": "markdown",
   "id": "123456",
   "metadata": {},
   "source": [
    "<div style=\"text-align:left;font-size:2em\"><span style=\"font-weight:bolder;font-size:1.25em\">SP2273 | Learning Portfolio</span><br><br><span style=\"font-weight:bold;color:darkred\">Functions (Good) Exercises</span></div>"
   ]
  },
  {
   "cell_type": "code",
   "execution_count": 7,
   "id": "cd7e6915-17a5-4e1f-8445-d57e277f62ce",
   "metadata": {},
   "outputs": [
    {
     "name": "stdout",
     "output_type": "stream",
     "text": [
      "-273.15\n",
      "32.00\n"
     ]
    }
   ],
   "source": [
    "def convert_celsius(temperature_celsius, target_scale = 'Fahrenheit'):\n",
    "    \n",
    "    if target_scale.lower() == 'kelvin':\n",
    "        return temperature_celsius - 273.15\n",
    "    else:\n",
    "        return temperature_celsius * 9/5 + 32\n",
    "\n",
    "print('%.2f'%convert_celsius(0,'Kelvin'))\n",
    "print('%.2f'%convert_celsius(0))"
   ]
  },
  {
   "cell_type": "code",
   "execution_count": 8,
   "id": "89c7dcfd-f1b2-46cc-a509-f3fa1fe6407a",
   "metadata": {},
   "outputs": [
    {
     "name": "stdout",
     "output_type": "stream",
     "text": [
      "255.37\n",
      "-17.78\n"
     ]
    }
   ],
   "source": [
    "def convert_farenheit(temperature_farenheit, target_scale = 'Celsius'):\n",
    "    \n",
    "    celsius = (temperature_farenheit - 32) * 5/9\n",
    "    if target_scale.lower() == 'kelvin':\n",
    "        return celsius + 273.15\n",
    "    else:\n",
    "        return celsius\n",
    "\n",
    "print('%.2f'%convert_farenheit(0,'Kelvin'))\n",
    "print('%.2f'%convert_farenheit(0))"
   ]
  },
  {
   "cell_type": "code",
   "execution_count": 13,
   "id": "bdbc75c7-989c-4908-9d9b-add4c04d66df",
   "metadata": {},
   "outputs": [
    {
     "name": "stdout",
     "output_type": "stream",
     "text": [
      "-459.67\n"
     ]
    }
   ],
   "source": [
    "def convert_temperature(temperature, source_scale, target_scale):\n",
    "    source_scale.lower()\n",
    "    target_scale.lower()\n",
    "    scales = ['kelvin', 'celsius', 'fahrenheit']\n",
    "    if (source_scale not in scales) | (target_scale not in scales):\n",
    "        return \"Invalid scales\"\n",
    "    elif source_scale == target_scale:\n",
    "        return \"Input and output are same scale\"\n",
    "    elif source_scale == 'farenheit':\n",
    "        return convert_fahrenheit(temperature, target_scale)\n",
    "    elif source_scale == 'celsius':\n",
    "        return convert_celsius(temperature, target_scale)\n",
    "    elif target_scale == 'celsius': \n",
    "        return temperature - 273.15\n",
    "    else:\n",
    "        return (temperature - 273.15) * 9/5 + 32\n",
    "print('%.2f'%convert_temperature(0, 'kelvin', 'fahrenheit'))"
   ]
  },
  {
   "cell_type": "code",
   "execution_count": null,
   "id": "4775316b-364a-4a79-8130-2a0c8dcf297d",
   "metadata": {},
   "outputs": [],
   "source": []
  }
 ],
 "metadata": {
  "kernelspec": {
   "display_name": "Python 3 (ipykernel)",
   "language": "python",
   "name": "python3"
  },
  "language_info": {
   "codemirror_mode": {
    "name": "ipython",
    "version": 3
   },
   "file_extension": ".py",
   "mimetype": "text/x-python",
   "name": "python",
   "nbconvert_exporter": "python",
   "pygments_lexer": "ipython3",
   "version": "3.9.5"
  },
  "toc": {
   "base_numbering": 1,
   "nav_menu": {},
   "number_sections": true,
   "sideBar": true,
   "skip_h1_title": false,
   "title_cell": "Table of Contents",
   "title_sidebar": "Contents",
   "toc_cell": false,
   "toc_position": {},
   "toc_section_display": true,
   "toc_window_display": false
  },
  "vscode": {
   "interpreter": {
    "hash": "31f2aee4e71d21fbe5cf8b01ff0e069b9275f58929596ceb00d14d90e3e16cd6"
   }
  }
 },
 "nbformat": 4,
 "nbformat_minor": 5
}
