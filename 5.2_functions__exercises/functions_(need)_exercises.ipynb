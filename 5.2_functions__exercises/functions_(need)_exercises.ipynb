{
 "cells": [
  {
   "attachments": {},
   "cell_type": "markdown",
   "id": "123456",
   "metadata": {},
   "source": [
    "<div style=\"text-align:left;font-size:2em\"><span style=\"font-weight:bolder;font-size:1.25em\">SP2273 | Learning Portfolio</span><br><br><span style=\"font-weight:bold;color:darkred\">Functions (Need) Exercises</span></div>"
   ]
  },
  {
   "cell_type": "markdown",
   "id": "ba93ac9c-e782-47ba-9caf-c52f9f21dbf2",
   "metadata": {},
   "source": [
    "def greeting(name):<br/>\n",
    "    if name == 'Batman':<br/>\n",
    "        return 'Hello Batman! So, nice to meet you!<br/>\n",
    "    return f'Hello {name}!<br/>\n",
    "\n",
    "The function would not work if the second return statement were not there. When the if condition is False, the second if statement completes and ends the function. Hence, an else statement is not necessary. "
   ]
  },
  {
   "cell_type": "code",
   "execution_count": 7,
   "id": "522e0b54-fe30-40d3-9447-546ab5bbae9c",
   "metadata": {},
   "outputs": [
    {
     "name": "stdout",
     "output_type": "stream",
     "text": [
      "Normal Weight\n"
     ]
    }
   ],
   "source": [
    "def calculate_bmi(weight,height):\n",
    "    \n",
    "    BMI = weight/(height**2)\n",
    "    \n",
    "    if BMI<18.5:\n",
    "        return \"Underweight\"\n",
    "    elif BMI<24.9 :\n",
    "        return \"Normal Weight\"\n",
    "    elif BMI<25.0:\n",
    "        return \"Overweight\"\n",
    "    else:\n",
    "        return \"Obese\"\n",
    "\n",
    "print(calculate_bmi(65,1.65))\n",
    "        \n",
    "\n",
    "    "
   ]
  },
  {
   "cell_type": "code",
   "execution_count": 16,
   "id": "18e7202b-10dd-42b9-9397-62188f605786",
   "metadata": {},
   "outputs": [
    {
     "data": {
      "text/plain": [
       "24"
      ]
     },
     "execution_count": 16,
     "metadata": {},
     "output_type": "execute_result"
    }
   ],
   "source": [
    "def factorial(n):\n",
    "    #print(isinstance(n, int))\n",
    "    if not isinstance(n, int) or n<-1:\n",
    "        return \"Invalid\"\n",
    "    elif n==0:\n",
    "        return 1\n",
    "    f = 1\n",
    "    for i in range(1,n+1):\n",
    "        f*=i\n",
    "    return f\n",
    "#factorial('c')\n",
    "#factorial(0.1)\n",
    "#factorial(0)\n",
    "factorial(4)\n",
    "#factorial(-1)"
   ]
  },
  {
   "cell_type": "code",
   "execution_count": null,
   "id": "ad6a8bf7-ed9e-4928-8fbb-9123e2c3d418",
   "metadata": {},
   "outputs": [],
   "source": []
  }
 ],
 "metadata": {
  "kernelspec": {
   "display_name": "Python 3 (ipykernel)",
   "language": "python",
   "name": "python3"
  },
  "language_info": {
   "codemirror_mode": {
    "name": "ipython",
    "version": 3
   },
   "file_extension": ".py",
   "mimetype": "text/x-python",
   "name": "python",
   "nbconvert_exporter": "python",
   "pygments_lexer": "ipython3",
   "version": "3.9.5"
  },
  "toc": {
   "base_numbering": 1,
   "nav_menu": {},
   "number_sections": true,
   "sideBar": true,
   "skip_h1_title": false,
   "title_cell": "Table of Contents",
   "title_sidebar": "Contents",
   "toc_cell": false,
   "toc_position": {},
   "toc_section_display": true,
   "toc_window_display": false
  },
  "vscode": {
   "interpreter": {
    "hash": "31f2aee4e71d21fbe5cf8b01ff0e069b9275f58929596ceb00d14d90e3e16cd6"
   }
  }
 },
 "nbformat": 4,
 "nbformat_minor": 5
}
